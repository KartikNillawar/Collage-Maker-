{
 "cells": [
  {
   "cell_type": "code",
   "execution_count": 16,
   "id": "44d7bcfa",
   "metadata": {},
   "outputs": [],
   "source": [
    "from PIL import Image\n",
    "import numpy as np\n",
    "import urllib.request"
   ]
  },
  {
   "cell_type": "code",
   "execution_count": 10,
   "id": "1e5af2a6",
   "metadata": {},
   "outputs": [],
   "source": [
    "def collage_maker(i1, i2, name):\n",
    "    collage = np.vstack([i1, i2])\n",
    "    image = Image.fromarray(collage)\n",
    "    image.save(name)"
   ]
  },
  {
   "cell_type": "code",
   "execution_count": 30,
   "id": "f8c8af8a",
   "metadata": {},
   "outputs": [
    {
     "data": {
      "text/plain": [
       "('img1.png', <http.client.HTTPMessage at 0x206bfefd370>)"
      ]
     },
     "execution_count": 30,
     "metadata": {},
     "output_type": "execute_result"
    }
   ],
   "source": [
    "#import images from urls\n",
    "urllib.request.urlretrieve(\n",
    "  'https://source.unsplash.com/500x300/?nature',\n",
    "   \"img1.png\")"
   ]
  },
  {
   "cell_type": "code",
   "execution_count": 26,
   "id": "f3719c68",
   "metadata": {},
   "outputs": [
    {
     "data": {
      "text/plain": [
       "('img2.png', <http.client.HTTPMessage at 0x206bfefdee0>)"
      ]
     },
     "execution_count": 26,
     "metadata": {},
     "output_type": "execute_result"
    }
   ],
   "source": [
    "#import images from urls\n",
    "urllib.request.urlretrieve(\n",
    "  'https://source.unsplash.com/500x300/?water',\n",
    "   \"img2.png\")"
   ]
  },
  {
   "cell_type": "code",
   "execution_count": 31,
   "id": "32a9eb1c",
   "metadata": {},
   "outputs": [],
   "source": [
    "#Read the image\n",
    "image1 = Image.open('img1.png')\n",
    "image2 = Image.open('img2.png')"
   ]
  },
  {
   "cell_type": "code",
   "execution_count": 32,
   "id": "c920e613",
   "metadata": {},
   "outputs": [],
   "source": [
    "#After reading the image, we can convert it into an array by using the NumPy library in Python:\n",
    "i1 = np.asarray(image1)\n",
    "i2 = np.asarray(image1)"
   ]
  },
  {
   "cell_type": "code",
   "execution_count": 33,
   "id": "07e6b05d",
   "metadata": {},
   "outputs": [],
   "source": [
    "# To Run The Above Function\n",
    "collage_maker(i1, i2, \"new.jpg\")"
   ]
  },
  {
   "cell_type": "code",
   "execution_count": null,
   "id": "3476262e",
   "metadata": {},
   "outputs": [],
   "source": []
  }
 ],
 "metadata": {
  "kernelspec": {
   "display_name": "Python 3",
   "language": "python",
   "name": "python3"
  },
  "language_info": {
   "codemirror_mode": {
    "name": "ipython",
    "version": 3
   },
   "file_extension": ".py",
   "mimetype": "text/x-python",
   "name": "python",
   "nbconvert_exporter": "python",
   "pygments_lexer": "ipython3",
   "version": "3.8.8"
  }
 },
 "nbformat": 4,
 "nbformat_minor": 5
}
